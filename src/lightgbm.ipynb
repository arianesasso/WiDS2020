{
 "cells": [
  {
   "cell_type": "markdown",
   "metadata": {},
   "source": [
    "This notebook contains the pipeline for running cross validated LightGBM in WiDS2020 Datathon."
   ]
  },
  {
   "cell_type": "code",
   "execution_count": 1,
   "metadata": {},
   "outputs": [],
   "source": [
    "import pandas as pd\n",
    "import lightgbm as lgb\n",
    "import numpy as np\n",
    "from sklearn.preprocessing import LabelEncoder\n",
    "from sklearn.model_selection import StratifiedKFold\n",
    "from sklearn.metrics import roc_auc_score"
   ]
  },
  {
   "cell_type": "code",
   "execution_count": 2,
   "metadata": {},
   "outputs": [],
   "source": [
    "def label_var(data,variables_cat):\n",
    "    lb = []\n",
    "    for cat in variables_cat:\n",
    "        le = LabelEncoder()\n",
    "        lb.append(le.fit(list(data[cat].dropna())))\n",
    "    \n",
    "    return lb\n",
    "\n",
    "def label_enc(data, le, categorical_features):\n",
    "    i = 0\n",
    "    for feature in categorical_features:\n",
    "        data.loc[data[feature].notnull(), feature] = le[i].transform(data.loc[data[feature].notnull(), feature])\n",
    "        i += 1"
   ]
  },
  {
   "cell_type": "code",
   "execution_count": 6,
   "metadata": {},
   "outputs": [
    {
     "name": "stdout",
     "output_type": "stream",
     "text": [
      "fold 0\n"
     ]
    },
    {
     "name": "stderr",
     "output_type": "stream",
     "text": [
      "/home/eee_sarah/.local/lib/python3.6/site-packages/lightgbm/basic.py:842: UserWarning: categorical_feature keyword has been found in `params` and will be ignored.\n",
      "Please use categorical_feature argument of the Dataset constructor to pass this parameter.\n",
      "  .format(key))\n"
     ]
    },
    {
     "name": "stdout",
     "output_type": "stream",
     "text": [
      "fold 1\n"
     ]
    },
    {
     "name": "stderr",
     "output_type": "stream",
     "text": [
      "/home/eee_sarah/.local/lib/python3.6/site-packages/lightgbm/basic.py:842: UserWarning: categorical_feature keyword has been found in `params` and will be ignored.\n",
      "Please use categorical_feature argument of the Dataset constructor to pass this parameter.\n",
      "  .format(key))\n"
     ]
    },
    {
     "name": "stdout",
     "output_type": "stream",
     "text": [
      "fold 2\n"
     ]
    },
    {
     "name": "stderr",
     "output_type": "stream",
     "text": [
      "/home/eee_sarah/.local/lib/python3.6/site-packages/lightgbm/basic.py:842: UserWarning: categorical_feature keyword has been found in `params` and will be ignored.\n",
      "Please use categorical_feature argument of the Dataset constructor to pass this parameter.\n",
      "  .format(key))\n"
     ]
    },
    {
     "name": "stdout",
     "output_type": "stream",
     "text": [
      "fold 3\n"
     ]
    },
    {
     "name": "stderr",
     "output_type": "stream",
     "text": [
      "/home/eee_sarah/.local/lib/python3.6/site-packages/lightgbm/basic.py:842: UserWarning: categorical_feature keyword has been found in `params` and will be ignored.\n",
      "Please use categorical_feature argument of the Dataset constructor to pass this parameter.\n",
      "  .format(key))\n"
     ]
    },
    {
     "name": "stdout",
     "output_type": "stream",
     "text": [
      "fold 4\n"
     ]
    },
    {
     "name": "stderr",
     "output_type": "stream",
     "text": [
      "/home/eee_sarah/.local/lib/python3.6/site-packages/lightgbm/basic.py:842: UserWarning: categorical_feature keyword has been found in `params` and will be ignored.\n",
      "Please use categorical_feature argument of the Dataset constructor to pass this parameter.\n",
      "  .format(key))\n"
     ]
    },
    {
     "name": "stdout",
     "output_type": "stream",
     "text": [
      "fold 5\n"
     ]
    },
    {
     "name": "stderr",
     "output_type": "stream",
     "text": [
      "/home/eee_sarah/.local/lib/python3.6/site-packages/lightgbm/basic.py:842: UserWarning: categorical_feature keyword has been found in `params` and will be ignored.\n",
      "Please use categorical_feature argument of the Dataset constructor to pass this parameter.\n",
      "  .format(key))\n"
     ]
    }
   ],
   "source": [
    "data_dir = '../data/'        \n",
    "        \n",
    "df_train = pd.read_csv(data_dir + \"training_v2.csv\")\n",
    "df_test = pd.read_csv(data_dir + \"unlabeled.csv\")\n",
    "\n",
    "useless_columns = ['encounter_id','patient_id','hospital_death','readmission_status']\n",
    "train_columns = [x for x in df_train.columns if x not in useless_columns]\n",
    "\n",
    "categorical_features = []\n",
    "for col in train_columns:\n",
    "    if df_train[col].dtypes == 'object':\n",
    "        categorical_features.append(col)\n",
    "\n",
    "        \n",
    "df_train[categorical_features] = df_train[categorical_features].fillna(\"\")\n",
    "df_test[categorical_features] = df_test[categorical_features].fillna(\"\")\n",
    "\n",
    "df_concat = pd.concat([df_train[categorical_features],df_test[categorical_features]])\n",
    "\n",
    "lb = label_var(df_concat, categorical_features)\n",
    "label_enc(df_train, lb, categorical_features)\n",
    "label_enc(df_test, lb, categorical_features)\n",
    "\n",
    "for df in [df_train, df_test]:\n",
    "    for feature in categorical_features:\n",
    "        df[feature] = df[feature].astype(int)\n",
    "\n",
    "\n",
    "categorical_index = [train_columns.index(x) for x in categorical_features]\n",
    "\n",
    "target = df_train['hospital_death']\n",
    "\n",
    "folds = StratifiedKFold(n_splits=6, shuffle=True, random_state=256)\n",
    "oof = np.zeros(len(df_train))\n",
    "scores = []\n",
    "predictions = np.zeros(len(df_test))\n",
    "\n",
    "for fold_, (trn_idx, val_idx) in enumerate(folds.split(df_train, target.values)):\n",
    "    strLog = \"fold {}\".format(fold_)\n",
    "    print(strLog)\n",
    "    \n",
    "    X = df_train.iloc[trn_idx][train_columns]\n",
    "    Y = df_train.iloc[trn_idx]['hospital_death']\n",
    "    \n",
    "    model_best = lgb.LGBMClassifier(verbose_eval=200, categorical_feature=categorical_index)\n",
    "    model_best.fit(X, Y)\n",
    "\n",
    "    oof[val_idx] = model_best.predict(df_train.iloc[val_idx][train_columns])\n",
    "    \n",
    "    score = roc_auc_score(target.loc[val_idx],model_best.predict(df_train.loc[val_idx,train_columns].values, prediction_type='Class'))\n",
    "    \n",
    "    scores.append(score)\n",
    "    \n",
    "    predictions += model_best.predict_proba(df_test[train_columns])[:, 1] / folds.n_splits"
   ]
  },
  {
   "cell_type": "code",
   "execution_count": 8,
   "metadata": {},
   "outputs": [
    {
     "name": "stdout",
     "output_type": "stream",
     "text": [
      "0.674665942678357\n",
      "mean: 0.6746662487534879\n",
      "std: 0.004620264871866327\n"
     ]
    }
   ],
   "source": [
    "strAUC = roc_auc_score(target, oof)\n",
    "print(strAUC)\n",
    "print (\"mean: \"+str(np.mean(np.array(scores))))\n",
    "print (\"std: \"+str(np.std(np.array(scores))))"
   ]
  }
 ],
 "metadata": {
  "kernelspec": {
   "display_name": "Python 3",
   "language": "python",
   "name": "python3"
  },
  "language_info": {
   "codemirror_mode": {
    "name": "ipython",
    "version": 3
   },
   "file_extension": ".py",
   "mimetype": "text/x-python",
   "name": "python",
   "nbconvert_exporter": "python",
   "pygments_lexer": "ipython3",
   "version": "3.6.9"
  }
 },
 "nbformat": 4,
 "nbformat_minor": 2
}
